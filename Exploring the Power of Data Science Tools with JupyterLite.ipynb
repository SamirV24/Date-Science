{
  "metadata": {
    "kernelspec": {
      "name": "python",
      "display_name": "Python (Pyodide)",
      "language": "python"
    },
    "language_info": {
      "codemirror_mode": {
        "name": "python",
        "version": 3
      },
      "file_extension": ".py",
      "mimetype": "text/x-python",
      "name": "python",
      "nbconvert_exporter": "python",
      "pygments_lexer": "ipython3",
      "version": "3.8"
    }
  },
  "nbformat_minor": 5,
  "nbformat": 4,
  "cells": [
    {
      "id": "e5a7e252-ff05-4b07-a699-a4c898426e60",
      "cell_type": "markdown",
      "source": "# Exploring the Power of Data Science Tools with JupyterLite\n",
      "metadata": {}
    },
    {
      "id": "bff94ae4-76bb-41e3-91dd-fb00310821ce",
      "cell_type": "markdown",
      "source": "## Introduction\n\nIn this project, I demonstrate the use of various data science tools explored throughout the course. \nUsing JupyterLite Notebook, I present a hands-on overview of basic operations, data analysis techniques, \nand visualization examples. This notebook serves as a summary of the skills and tools acquired during the learning journey.\n",
      "metadata": {}
    },
    {
      "id": "2bb528e3-7c80-47cb-bbeb-24d7f6e4b427",
      "cell_type": "markdown",
      "source": "## Data Science Languages\n\nThe following programming languages are commonly used in Data Science:\n\n- Python\n- R\n- SQL\n- Java\n- Julia\n- Scala\n- C++\n",
      "metadata": {}
    },
    {
      "id": "19204414-8d98-4d41-be6a-53e57d7a37fe",
      "cell_type": "markdown",
      "source": "## Data Science Libraries\n\nSome of the most popular libraries used in Data Science are:\n\n- Pandas\n- NumPy\n- Matplotlib\n- Seaborn\n- Scikit-learn\n- TensorFlow\n- Keras\n- PyTorch\n- Statsmodels\n",
      "metadata": {}
    },
    {
      "id": "098c5409-bef3-4b7a-8200-a433361dac9b",
      "cell_type": "markdown",
      "source": "## Data Science Tools\n\n| Tool           | Description                        |\n|----------------|------------------------------------|\n| Jupyter Notebook | Interactive coding environment |\n| RStudio        | IDE for R programming              |\n| Apache Spark   | Big data processing framework      |\n| TensorFlow     | Machine learning library           |\n| Tableau        | Data visualization software        |\n| VS Code        | Lightweight code editor            |\n",
      "metadata": {}
    },
    {
      "id": "0654f55d-08c6-4cc4-9128-334fa22135ad",
      "cell_type": "markdown",
      "source": "## Examples of Arithmetic Expressions\n\nIn this section, we will explore simple arithmetic expressions using basic mathematical operations such as addition, subtraction, multiplication, and division. \nThese examples demonstrate how to perform calculations directly within a Jupyter Notebook.",
      "metadata": {}
    },
    {
      "id": "3cd46fa2-4f0c-41da-9b5f-e3fcf9c1c73e",
      "cell_type": "markdown",
      "source": "### Arithmetic Expression Examples\n\n1. **Addition**: \n   - `5 + 3 = 8`\n   \n2. **Subtraction**: \n   - `10 - 4 = 6`\n   \n3. **Multiplication**: \n   - `7 * 6 = 42`\n   \n4. **Division**: \n   - `20 / 4 = 5`\n   \n5. **Exponentiation**: \n   - `2 ** 3 = 8` (2 raised to the power of 3)\n   \n6. **Modulus** (remainder of division): \n   - `10 % 3 = 1` (remainder of 10 divided by 3)\n",
      "metadata": {}
    },
    {
      "id": "87c11666-6d27-44b7-b328-bd1f0658ad84",
      "cell_type": "markdown",
      "source": "# Convert minutes to hours\ndef convert_minutes_to_hours(minutes):\n    hours = minutes / 60\n    return hours\n\n# Example usage\nminutes = 150\nhours = convert_minutes_to_hours(minutes)\nhours\n",
      "metadata": {}
    },
    {
      "id": "ae6f9e76-f8a1-487e-b46a-a88b0c2d64a6",
      "cell_type": "markdown",
      "source": "## Objectives\n\nThe main objectives of this project are:\n\n- To explore and apply various data science tools and libraries.\n- To demonstrate the ability to perform basic arithmetic operations in a JupyterLite Notebook.\n- To showcase the process of converting units, such as minutes to hours, using Python.\n- To provide a comprehensive overview of essential data science languages and libraries.\n- To understand and use Markdown to present structured and readable content in a notebook.\n",
      "metadata": {}
    },
    {
      "id": "50e32a07-1417-4e89-9db3-6e4a13ec5668",
      "cell_type": "markdown",
      "source": "## Author\n\nThis project was created by **Samir Vivar Guadalupe**.\n",
      "metadata": {}
    },
    {
      "id": "a4276b0d-f590-4a27-ab20-ae9d9cb9a2fc",
      "cell_type": "code",
      "source": "",
      "metadata": {
        "trusted": true
      },
      "outputs": [],
      "execution_count": null
    }
  ]
}